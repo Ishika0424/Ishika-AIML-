{
  "nbformat": 4,
  "nbformat_minor": 0,
  "metadata": {
    "colab": {
      "provenance": []
    },
    "kernelspec": {
      "name": "python3",
      "display_name": "Python 3"
    },
    "language_info": {
      "name": "python"
    }
  },
  "cells": [
    {
      "cell_type": "code",
      "execution_count": 1,
      "metadata": {
        "id": "_v-Z8ixKCtNA"
      },
      "outputs": [],
      "source": [
        "# Importing the necessary library\n",
        "import pandas as pd"
      ]
    },
    {
      "cell_type": "code",
      "source": [
        "# Load the dataset into a Pandas DataFrame\n",
        "df = pd.read_csv('business.csv')"
      ],
      "metadata": {
        "id": "u51Te2eZEuaL"
      },
      "execution_count": 5,
      "outputs": []
    },
    {
      "cell_type": "code",
      "source": [
        "# Display the first five rows of the dataset\n",
        "print(\"First five rows of the dataset:\")\n",
        "print(df.head())"
      ],
      "metadata": {
        "colab": {
          "base_uri": "https://localhost:8080/"
        },
        "id": "sFdUewLcEuXS",
        "outputId": "a77130f5-d7a1-48cf-b913-30c1d17c0ecb"
      },
      "execution_count": 6,
      "outputs": [
        {
          "output_type": "stream",
          "name": "stdout",
          "text": [
            "First five rows of the dataset:\n",
            "   Year Industry_aggregation_NZSIOC Industry_code_NZSIOC Industry_name_NZSIOC  \\\n",
            "0  2023                     Level 1                99999       All industries   \n",
            "1  2023                     Level 1                99999       All industries   \n",
            "2  2023                     Level 1                99999       All industries   \n",
            "3  2023                     Level 1                99999       All industries   \n",
            "4  2023                     Level 1                99999       All industries   \n",
            "\n",
            "                Units Variable_code  \\\n",
            "0  Dollars (millions)           H01   \n",
            "1  Dollars (millions)           H04   \n",
            "2  Dollars (millions)           H05   \n",
            "3  Dollars (millions)           H07   \n",
            "4  Dollars (millions)           H08   \n",
            "\n",
            "                                     Variable_name      Variable_category  \\\n",
            "0                                     Total income  Financial performance   \n",
            "1  Sales, government funding, grants and subsidies  Financial performance   \n",
            "2                Interest, dividends and donations  Financial performance   \n",
            "3                             Non-operating income  Financial performance   \n",
            "4                                Total expenditure  Financial performance   \n",
            "\n",
            "    Value                             Industry_code_ANZSIC06  \n",
            "0  930995  ANZSIC06 divisions A-S (excluding classes K633...  \n",
            "1  821630  ANZSIC06 divisions A-S (excluding classes K633...  \n",
            "2   84354  ANZSIC06 divisions A-S (excluding classes K633...  \n",
            "3   25010  ANZSIC06 divisions A-S (excluding classes K633...  \n",
            "4  832964  ANZSIC06 divisions A-S (excluding classes K633...  \n"
          ]
        }
      ]
    },
    {
      "cell_type": "code",
      "source": [
        "# Output the total number of rows and columns\n",
        "print(\"\\nTotal number of rows and columns:\")\n",
        "print(df.shape)"
      ],
      "metadata": {
        "colab": {
          "base_uri": "https://localhost:8080/"
        },
        "id": "IyXj0mjdEuUv",
        "outputId": "2f31e01a-05f3-459b-e9de-8aba9a23d294"
      },
      "execution_count": 7,
      "outputs": [
        {
          "output_type": "stream",
          "name": "stdout",
          "text": [
            "\n",
            "Total number of rows and columns:\n",
            "(50985, 10)\n"
          ]
        }
      ]
    },
    {
      "cell_type": "code",
      "source": [
        "# Identify and list all column names and their respective data types\n",
        "print(\"\\nColumn names and their data types:\")\n",
        "print(df.dtypes)"
      ],
      "metadata": {
        "colab": {
          "base_uri": "https://localhost:8080/"
        },
        "id": "cm9x9CSYEuSf",
        "outputId": "affc8a64-cd1e-447e-9db9-80152a837fef"
      },
      "execution_count": 8,
      "outputs": [
        {
          "output_type": "stream",
          "name": "stdout",
          "text": [
            "\n",
            "Column names and their data types:\n",
            "Year                            int64\n",
            "Industry_aggregation_NZSIOC    object\n",
            "Industry_code_NZSIOC           object\n",
            "Industry_name_NZSIOC           object\n",
            "Units                          object\n",
            "Variable_code                  object\n",
            "Variable_name                  object\n",
            "Variable_category              object\n",
            "Value                          object\n",
            "Industry_code_ANZSIC06         object\n",
            "dtype: object\n"
          ]
        }
      ]
    },
    {
      "cell_type": "code",
      "source": [
        "# Check for missing values in each column and provide a count\n",
        "print(\"\\nMissing values count for each column:\")\n",
        "missing_values = df.isnull().sum()\n",
        "print(missing_values)"
      ],
      "metadata": {
        "colab": {
          "base_uri": "https://localhost:8080/"
        },
        "id": "t0dJ3OgpEuP3",
        "outputId": "2252b4b9-5e01-42a9-d4d6-0efbdbfe6e25"
      },
      "execution_count": 9,
      "outputs": [
        {
          "output_type": "stream",
          "name": "stdout",
          "text": [
            "\n",
            "Missing values count for each column:\n",
            "Year                           0\n",
            "Industry_aggregation_NZSIOC    0\n",
            "Industry_code_NZSIOC           0\n",
            "Industry_name_NZSIOC           0\n",
            "Units                          0\n",
            "Variable_code                  0\n",
            "Variable_name                  0\n",
            "Variable_category              0\n",
            "Value                          0\n",
            "Industry_code_ANZSIC06         0\n",
            "dtype: int64\n"
          ]
        }
      ]
    },
    {
      "cell_type": "code",
      "source": [
        "print(\"\\nColumns with missing values:\")\n",
        "null_columns = missing_values[missing_values > 0]\n",
        "print(null_columns)"
      ],
      "metadata": {
        "colab": {
          "base_uri": "https://localhost:8080/"
        },
        "id": "oRkeXyMtEuM6",
        "outputId": "9892f666-fb89-4bef-be1e-4d597a586e9b"
      },
      "execution_count": 10,
      "outputs": [
        {
          "output_type": "stream",
          "name": "stdout",
          "text": [
            "\n",
            "Columns with missing values:\n",
            "Series([], dtype: int64)\n"
          ]
        }
      ]
    },
    {
      "cell_type": "code",
      "source": [
        "# Analyze unique values in categorical columns\n",
        "print(\"\\nUnique values in categorical columns:\")\n",
        "categorical_columns = df.select_dtypes(include=['object']).columns\n",
        "for col in categorical_columns:\n",
        "    print(f\"{col}: {df[col].nunique()} unique values\")"
      ],
      "metadata": {
        "colab": {
          "base_uri": "https://localhost:8080/"
        },
        "id": "QueBNOvoEuFj",
        "outputId": "f4a792b9-bb67-48ed-bc0c-9488fede218b"
      },
      "execution_count": 11,
      "outputs": [
        {
          "output_type": "stream",
          "name": "stdout",
          "text": [
            "\n",
            "Unique values in categorical columns:\n",
            "Industry_aggregation_NZSIOC: 3 unique values\n",
            "Industry_code_NZSIOC: 139 unique values\n",
            "Industry_name_NZSIOC: 119 unique values\n",
            "Units: 3 unique values\n",
            "Variable_code: 39 unique values\n",
            "Variable_name: 41 unique values\n",
            "Variable_category: 3 unique values\n",
            "Value: 13673 unique values\n",
            "Industry_code_ANZSIC06: 121 unique values\n"
          ]
        }
      ]
    },
    {
      "cell_type": "code",
      "source": [
        "# Calculate Mean, Median, Mode, Standard Deviation, Variance, Min, Max, and Percentiles for each numerical column\n",
        "numerical_columns = df.select_dtypes(include=['number']).columns\n",
        "print(\"\\nStatistical Summary for Numerical Columns:\")\n",
        "for col in numerical_columns:\n",
        "    print(f\"\\nColumn: {col}\")\n",
        "    print(f\"Mean: {df[col].mean()}\")\n",
        "    print(f\"Median: {df[col].median()}\")\n",
        "    print(f\"Mode: {df[col].mode()[0]}\")  # Displaying the first mode in case of multiple modes\n",
        "    print(f\"Standard Deviation: {df[col].std()}\")\n",
        "    print(f\"Variance: {df[col].var()}\")\n",
        "    print(f\"Minimum: {df[col].min()}\")\n",
        "    print(f\"Maximum: {df[col].max()}\")\n",
        "    print(f\"25th Percentile: {df[col].quantile(0.25)}\")\n",
        "    print(f\"50th Percentile (Median): {df[col].quantile(0.5)}\")\n",
        "    print(f\"75th Percentile: {df[col].quantile(0.75)}\")\n"
      ],
      "metadata": {
        "colab": {
          "base_uri": "https://localhost:8080/"
        },
        "id": "8QSqPNMxEuBH",
        "outputId": "6ca631aa-bc2d-422c-ff2b-f357cfc00bf5"
      },
      "execution_count": 12,
      "outputs": [
        {
          "output_type": "stream",
          "name": "stdout",
          "text": [
            "\n",
            "Statistical Summary for Numerical Columns:\n",
            "\n",
            "Column: Year\n",
            "Mean: 2018.0\n",
            "Median: 2018.0\n",
            "Mode: 2013\n",
            "Standard Deviation: 3.1623086724678666\n",
            "Variance: 10.00019613996548\n",
            "Minimum: 2013\n",
            "Maximum: 2023\n",
            "25th Percentile: 2015.0\n",
            "50th Percentile (Median): 2018.0\n",
            "75th Percentile: 2021.0\n"
          ]
        }
      ]
    }
  ]
}