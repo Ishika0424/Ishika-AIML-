{
  "nbformat": 4,
  "nbformat_minor": 0,
  "metadata": {
    "colab": {
      "provenance": []
    },
    "kernelspec": {
      "name": "python3",
      "display_name": "Python 3"
    },
    "language_info": {
      "name": "python"
    }
  },
  "cells": [
    {
      "cell_type": "code",
      "execution_count": null,
      "metadata": {
        "id": "ODNCAGnC0vti"
      },
      "outputs": [],
      "source": [
        "# Importing required libraries\n",
        "import pandas as pd\n",
        "from sklearn.preprocessing import MinMaxScaler, StandardScaler\n",
        "from sklearn.preprocessing import OneHotEncoder\n",
        "\n"
      ]
    },
    {
      "cell_type": "code",
      "source": [
        "# Importing the dataset\n",
        "# Replace 'dataset.csv' with the path to your dataset\n",
        "data = pd.read_csv('supermarket_sales.csv')"
      ],
      "metadata": {
        "id": "nmgJ5PZn1DJs"
      },
      "execution_count": null,
      "outputs": []
    },
    {
      "cell_type": "code",
      "source": [
        "# Displaying basic details\n",
        "print(\"Basic Details of the Dataset:\")\n",
        "print(\"Number of rows:\", data.shape[0])\n",
        "print(\"Number of columns:\", data.shape[1])\n",
        "print(\"Data types:\\n\", data.dtypes)\n",
        "print(\"\\nFirst 5 rows of the dataset:\\n\", data.head())\n"
      ],
      "metadata": {
        "colab": {
          "base_uri": "https://localhost:8080/"
        },
        "id": "9hgiekUi1DGV",
        "outputId": "05083233-eda1-4623-ea5a-b8a2aa78468c"
      },
      "execution_count": null,
      "outputs": [
        {
          "output_type": "stream",
          "name": "stdout",
          "text": [
            "Basic Details of the Dataset:\n",
            "Number of rows: 1000\n",
            "Number of columns: 17\n",
            "Data types:\n",
            " Invoice ID                  object\n",
            "Branch                      object\n",
            "City                        object\n",
            "Customer type               object\n",
            "Gender                      object\n",
            "Product line                object\n",
            "Unit price                 float64\n",
            "Quantity                     int64\n",
            "Tax 5%                     float64\n",
            "Total                      float64\n",
            "Date                        object\n",
            "Time                        object\n",
            "Payment                     object\n",
            "cogs                       float64\n",
            "gross margin percentage    float64\n",
            "gross income               float64\n",
            "Rating                     float64\n",
            "dtype: object\n",
            "\n",
            "First 5 rows of the dataset:\n",
            "     Invoice ID Branch       City Customer type  Gender  \\\n",
            "0  750-67-8428      A     Yangon        Member  Female   \n",
            "1  226-31-3081      C  Naypyitaw        Normal  Female   \n",
            "2  631-41-3108      A     Yangon        Normal    Male   \n",
            "3  123-19-1176      A     Yangon        Member    Male   \n",
            "4  373-73-7910      A     Yangon        Normal    Male   \n",
            "\n",
            "             Product line  Unit price  Quantity   Tax 5%     Total       Date  \\\n",
            "0       Health and beauty       74.69         7  26.1415  548.9715   1/5/2019   \n",
            "1  Electronic accessories       15.28         5   3.8200   80.2200   3/8/2019   \n",
            "2      Home and lifestyle       46.33         7  16.2155  340.5255   3/3/2019   \n",
            "3       Health and beauty       58.22         8  23.2880  489.0480  1/27/2019   \n",
            "4       Sports and travel       86.31         7  30.2085  634.3785   2/8/2019   \n",
            "\n",
            "    Time      Payment    cogs  gross margin percentage  gross income  Rating  \n",
            "0  13:08      Ewallet  522.83                 4.761905       26.1415     9.1  \n",
            "1  10:29         Cash   76.40                 4.761905        3.8200     9.6  \n",
            "2  13:23  Credit card  324.31                 4.761905       16.2155     7.4  \n",
            "3  20:33      Ewallet  465.76                 4.761905       23.2880     8.4  \n",
            "4  10:37      Ewallet  604.17                 4.761905       30.2085     5.3  \n"
          ]
        }
      ]
    },
    {
      "cell_type": "code",
      "source": [
        "# Separating numerical and categorical columns\n",
        "numerical_columns = data.select_dtypes(include=['float64', 'int64']).columns\n",
        "categorical_columns = data.select_dtypes(include=['object']).columns\n",
        "\n",
        "print(\"\\nNumerical Columns:\", list(numerical_columns))\n",
        "print(\"Categorical Columns:\", list(categorical_columns))\n"
      ],
      "metadata": {
        "colab": {
          "base_uri": "https://localhost:8080/"
        },
        "id": "0oF8IjTy1DEC",
        "outputId": "4bfd7906-c017-4d4f-f527-951c6d5c46ef"
      },
      "execution_count": null,
      "outputs": [
        {
          "output_type": "stream",
          "name": "stdout",
          "text": [
            "\n",
            "Numerical Columns: ['Unit price', 'Quantity', 'Tax 5%', 'Total', 'cogs', 'gross margin percentage', 'gross income', 'Rating']\n",
            "Categorical Columns: ['Invoice ID', 'Branch', 'City', 'Customer type', 'Gender', 'Product line', 'Date', 'Time', 'Payment']\n"
          ]
        }
      ]
    },
    {
      "cell_type": "code",
      "source": [
        "# Applying Min-Max Scaling (Normalization)\n",
        "scaler = MinMaxScaler()\n",
        "data_scaled = data.copy()  # Making a copy of the dataset for scaled values\n",
        "data_scaled[numerical_columns] = scaler.fit_transform(data[numerical_columns])\n",
        "\n",
        "print(\"\\nDataset after applying Min-Max Scaling (first 5 rows):\")\n",
        "print(data_scaled.head())\n"
      ],
      "metadata": {
        "colab": {
          "base_uri": "https://localhost:8080/"
        },
        "id": "CJgd3FHX1DCX",
        "outputId": "5f043973-d74c-40b6-cec1-06d4e5cf6750"
      },
      "execution_count": null,
      "outputs": [
        {
          "output_type": "stream",
          "name": "stdout",
          "text": [
            "\n",
            "Dataset after applying Min-Max Scaling (first 5 rows):\n",
            "    Invoice ID Branch       City Customer type  Gender  \\\n",
            "0  750-67-8428      A     Yangon        Member  Female   \n",
            "1  226-31-3081      C  Naypyitaw        Normal  Female   \n",
            "2  631-41-3108      A     Yangon        Normal    Male   \n",
            "3  123-19-1176      A     Yangon        Member    Male   \n",
            "4  373-73-7910      A     Yangon        Normal    Male   \n",
            "\n",
            "             Product line  Unit price  Quantity    Tax 5%     Total  \\\n",
            "0       Health and beauty    0.718847  0.666667  0.521616  0.521616   \n",
            "1  Electronic accessories    0.057855  0.444444  0.067387  0.067387   \n",
            "2      Home and lifestyle    0.403316  0.666667  0.319628  0.319628   \n",
            "3       Health and beauty    0.535603  0.777778  0.463549  0.463549   \n",
            "4       Sports and travel    0.848131  0.666667  0.604377  0.604377   \n",
            "\n",
            "        Date   Time      Payment      cogs  gross margin percentage  \\\n",
            "0   1/5/2019  13:08      Ewallet  0.521616                      0.0   \n",
            "1   3/8/2019  10:29         Cash  0.067387                      0.0   \n",
            "2   3/3/2019  13:23  Credit card  0.319628                      0.0   \n",
            "3  1/27/2019  20:33      Ewallet  0.463549                      0.0   \n",
            "4   2/8/2019  10:37      Ewallet  0.604377                      0.0   \n",
            "\n",
            "   gross income    Rating  \n",
            "0      0.521616  0.850000  \n",
            "1      0.067387  0.933333  \n",
            "2      0.319628  0.566667  \n",
            "3      0.463549  0.733333  \n",
            "4      0.604377  0.216667  \n"
          ]
        }
      ]
    },
    {
      "cell_type": "code",
      "source": [
        "# Ensure categorical columns are correctly extracted as a DataFrame\n",
        "categorical_data = data_scaled[categorical_columns]\n",
        "\n",
        "# Applying One-Hot Encoding\n",
        "encoder = OneHotEncoder(sparse_output=False, drop='first')\n",
        "# Avoid multicollinearity by dropping the first category\n",
        "encoded = encoder.fit_transform(categorical_data)\n",
        "\n",
        "# Creating a DataFrame for encoded features\n",
        "encoded_columns = encoder.get_feature_names_out(categorical_columns)\n",
        "encoded_df = pd.DataFrame(encoded, columns=encoded_columns, index=categorical_data.index)\n",
        "\n",
        "# Concatenating encoded features with the scaled dataset\n",
        "data_preprocessed = pd.concat([data_scaled.drop(categorical_columns, axis=1), encoded_df], axis=1)\n",
        "\n",
        "print(\"\\nDataset after applying One-Hot Encoding (first 5 rows):\")\n",
        "print(data_preprocessed.head())\n"
      ],
      "metadata": {
        "colab": {
          "base_uri": "https://localhost:8080/"
        },
        "id": "jNkM9FJn1DA0",
        "outputId": "9ad51a2b-af41-4621-e6c1-e7113bc54b10"
      },
      "execution_count": null,
      "outputs": [
        {
          "output_type": "stream",
          "name": "stdout",
          "text": [
            "\n",
            "Dataset after applying One-Hot Encoding (first 5 rows):\n",
            "   Unit price  Quantity    Tax 5%     Total      cogs  \\\n",
            "0    0.718847  0.666667  0.521616  0.521616  0.521616   \n",
            "1    0.057855  0.444444  0.067387  0.067387  0.067387   \n",
            "2    0.403316  0.666667  0.319628  0.319628  0.319628   \n",
            "3    0.535603  0.777778  0.463549  0.463549  0.463549   \n",
            "4    0.848131  0.666667  0.604377  0.604377  0.604377   \n",
            "\n",
            "   gross margin percentage  gross income    Rating  Invoice ID_101-81-4070  \\\n",
            "0                      0.0      0.521616  0.850000                     0.0   \n",
            "1                      0.0      0.067387  0.933333                     0.0   \n",
            "2                      0.0      0.319628  0.566667                     0.0   \n",
            "3                      0.0      0.463549  0.733333                     0.0   \n",
            "4                      0.0      0.604377  0.216667                     0.0   \n",
            "\n",
            "   Invoice ID_102-06-2002  ...  Time_20:48  Time_20:50  Time_20:51  \\\n",
            "0                     0.0  ...         0.0         0.0         0.0   \n",
            "1                     0.0  ...         0.0         0.0         0.0   \n",
            "2                     0.0  ...         0.0         0.0         0.0   \n",
            "3                     0.0  ...         0.0         0.0         0.0   \n",
            "4                     0.0  ...         0.0         0.0         0.0   \n",
            "\n",
            "   Time_20:52  Time_20:54  Time_20:55  Time_20:57  Time_20:59  \\\n",
            "0         0.0         0.0         0.0         0.0         0.0   \n",
            "1         0.0         0.0         0.0         0.0         0.0   \n",
            "2         0.0         0.0         0.0         0.0         0.0   \n",
            "3         0.0         0.0         0.0         0.0         0.0   \n",
            "4         0.0         0.0         0.0         0.0         0.0   \n",
            "\n",
            "   Payment_Credit card  Payment_Ewallet  \n",
            "0                  0.0              1.0  \n",
            "1                  0.0              0.0  \n",
            "2                  1.0              0.0  \n",
            "3                  0.0              1.0  \n",
            "4                  0.0              1.0  \n",
            "\n",
            "[5 rows x 1613 columns]\n"
          ]
        }
      ]
    },
    {
      "cell_type": "code",
      "source": [
        "print(\"\\nOriginal Dataset (first 5 rows):\")\n",
        "print(data.head())\n",
        "\n",
        "print(\"\\nPreprocessed Dataset (first 5 rows):\")\n",
        "print(data_preprocessed.head())\n"
      ],
      "metadata": {
        "colab": {
          "base_uri": "https://localhost:8080/"
        },
        "id": "GD6EAXLT1C6F",
        "outputId": "bc297bfc-55dd-4812-a172-c633ece6cb57"
      },
      "execution_count": null,
      "outputs": [
        {
          "output_type": "stream",
          "name": "stdout",
          "text": [
            "\n",
            "Original Dataset (first 5 rows):\n",
            "    Invoice ID Branch       City Customer type  Gender  \\\n",
            "0  750-67-8428      A     Yangon        Member  Female   \n",
            "1  226-31-3081      C  Naypyitaw        Normal  Female   \n",
            "2  631-41-3108      A     Yangon        Normal    Male   \n",
            "3  123-19-1176      A     Yangon        Member    Male   \n",
            "4  373-73-7910      A     Yangon        Normal    Male   \n",
            "\n",
            "             Product line  Unit price  Quantity   Tax 5%     Total       Date  \\\n",
            "0       Health and beauty       74.69         7  26.1415  548.9715   1/5/2019   \n",
            "1  Electronic accessories       15.28         5   3.8200   80.2200   3/8/2019   \n",
            "2      Home and lifestyle       46.33         7  16.2155  340.5255   3/3/2019   \n",
            "3       Health and beauty       58.22         8  23.2880  489.0480  1/27/2019   \n",
            "4       Sports and travel       86.31         7  30.2085  634.3785   2/8/2019   \n",
            "\n",
            "    Time      Payment    cogs  gross margin percentage  gross income  Rating  \n",
            "0  13:08      Ewallet  522.83                 4.761905       26.1415     9.1  \n",
            "1  10:29         Cash   76.40                 4.761905        3.8200     9.6  \n",
            "2  13:23  Credit card  324.31                 4.761905       16.2155     7.4  \n",
            "3  20:33      Ewallet  465.76                 4.761905       23.2880     8.4  \n",
            "4  10:37      Ewallet  604.17                 4.761905       30.2085     5.3  \n",
            "\n",
            "Preprocessed Dataset (first 5 rows):\n",
            "   Unit price  Quantity    Tax 5%     Total      cogs  \\\n",
            "0    0.718847  0.666667  0.521616  0.521616  0.521616   \n",
            "1    0.057855  0.444444  0.067387  0.067387  0.067387   \n",
            "2    0.403316  0.666667  0.319628  0.319628  0.319628   \n",
            "3    0.535603  0.777778  0.463549  0.463549  0.463549   \n",
            "4    0.848131  0.666667  0.604377  0.604377  0.604377   \n",
            "\n",
            "   gross margin percentage  gross income    Rating  Invoice ID_101-81-4070  \\\n",
            "0                      0.0      0.521616  0.850000                     0.0   \n",
            "1                      0.0      0.067387  0.933333                     0.0   \n",
            "2                      0.0      0.319628  0.566667                     0.0   \n",
            "3                      0.0      0.463549  0.733333                     0.0   \n",
            "4                      0.0      0.604377  0.216667                     0.0   \n",
            "\n",
            "   Invoice ID_102-06-2002  ...  Time_20:48  Time_20:50  Time_20:51  \\\n",
            "0                     0.0  ...         0.0         0.0         0.0   \n",
            "1                     0.0  ...         0.0         0.0         0.0   \n",
            "2                     0.0  ...         0.0         0.0         0.0   \n",
            "3                     0.0  ...         0.0         0.0         0.0   \n",
            "4                     0.0  ...         0.0         0.0         0.0   \n",
            "\n",
            "   Time_20:52  Time_20:54  Time_20:55  Time_20:57  Time_20:59  \\\n",
            "0         0.0         0.0         0.0         0.0         0.0   \n",
            "1         0.0         0.0         0.0         0.0         0.0   \n",
            "2         0.0         0.0         0.0         0.0         0.0   \n",
            "3         0.0         0.0         0.0         0.0         0.0   \n",
            "4         0.0         0.0         0.0         0.0         0.0   \n",
            "\n",
            "   Payment_Credit card  Payment_Ewallet  \n",
            "0                  0.0              1.0  \n",
            "1                  0.0              0.0  \n",
            "2                  1.0              0.0  \n",
            "3                  0.0              1.0  \n",
            "4                  0.0              1.0  \n",
            "\n",
            "[5 rows x 1613 columns]\n"
          ]
        }
      ]
    },
    {
      "cell_type": "code",
      "source": [
        "# Checking memory usage before and after preprocessing\n",
        "original_memory = data.memory_usage(deep=True).sum()\n",
        "preprocessed_memory = data_preprocessed.memory_usage(deep=True).sum()\n",
        "\n",
        "print(\"\\nMemory Usage Analysis:\")\n",
        "print(f\"Memory Usage Before Preprocessing: {original_memory} bytes\")\n",
        "print(f\"Memory Usage After Preprocessing: {preprocessed_memory} bytes\")\n",
        "print(f\"Difference in Memory Usage: {preprocessed_memory - original_memory} bytes\")\n"
      ],
      "metadata": {
        "colab": {
          "base_uri": "https://localhost:8080/"
        },
        "id": "rFNAZl9o1C1X",
        "outputId": "05175292-2f76-4b01-b8cb-a0140ad3350f"
      },
      "execution_count": null,
      "outputs": [
        {
          "output_type": "stream",
          "name": "stdout",
          "text": [
            "\n",
            "Memory Usage Analysis:\n",
            "Memory Usage Before Preprocessing: 647207 bytes\n",
            "Memory Usage After Preprocessing: 12904128 bytes\n",
            "Difference in Memory Usage: 12256921 bytes\n"
          ]
        }
      ]
    },
    {
      "cell_type": "code",
      "source": [],
      "metadata": {
        "id": "uJfuCGZm1Cwm"
      },
      "execution_count": null,
      "outputs": []
    },
    {
      "cell_type": "code",
      "source": [],
      "metadata": {
        "id": "o1TNgnK91Ctt"
      },
      "execution_count": null,
      "outputs": []
    },
    {
      "cell_type": "code",
      "source": [],
      "metadata": {
        "id": "8YMvb7xv1CqB"
      },
      "execution_count": null,
      "outputs": []
    },
    {
      "cell_type": "code",
      "source": [],
      "metadata": {
        "id": "cW2oduvu1CmD"
      },
      "execution_count": null,
      "outputs": []
    }
  ]
}