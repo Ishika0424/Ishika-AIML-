{
  "nbformat": 4,
  "nbformat_minor": 0,
  "metadata": {
    "colab": {
      "provenance": []
    },
    "kernelspec": {
      "name": "python3",
      "display_name": "Python 3"
    },
    "language_info": {
      "name": "python"
    }
  },
  "cells": [
    {
      "cell_type": "code",
      "execution_count": null,
      "metadata": {
        "id": "iiMaHPBKN1z6"
      },
      "outputs": [],
      "source": [
        "import pandas as pd"
      ]
    },
    {
      "cell_type": "code",
      "source": [
        "df = pd.read_csv('supermarket_sales.csv')"
      ],
      "metadata": {
        "id": "Q65NpLbNN-k7"
      },
      "execution_count": 4,
      "outputs": []
    },
    {
      "cell_type": "code",
      "source": [
        "print(df.head())"
      ],
      "metadata": {
        "id": "iSLryxxdN-h4",
        "colab": {
          "base_uri": "https://localhost:8080/"
        },
        "outputId": "4e3da602-a895-4f67-caa6-3b43bc575106"
      },
      "execution_count": 5,
      "outputs": [
        {
          "output_type": "stream",
          "name": "stdout",
          "text": [
            "    Invoice ID Branch       City Customer type  Gender  \\\n",
            "0  750-67-8428      A     Yangon        Member  Female   \n",
            "1  226-31-3081      C  Naypyitaw        Normal  Female   \n",
            "2  631-41-3108      A     Yangon        Normal    Male   \n",
            "3  123-19-1176      A     Yangon        Member    Male   \n",
            "4  373-73-7910      A     Yangon        Normal    Male   \n",
            "\n",
            "             Product line  Unit price  Quantity   Tax 5%     Total       Date  \\\n",
            "0       Health and beauty       74.69         7  26.1415  548.9715   1/5/2019   \n",
            "1  Electronic accessories       15.28         5   3.8200   80.2200   3/8/2019   \n",
            "2      Home and lifestyle       46.33         7  16.2155  340.5255   3/3/2019   \n",
            "3       Health and beauty       58.22         8  23.2880  489.0480  1/27/2019   \n",
            "4       Sports and travel       86.31         7  30.2085  634.3785   2/8/2019   \n",
            "\n",
            "    Time      Payment    cogs  gross margin percentage  gross income  Rating  \n",
            "0  13:08      Ewallet  522.83                 4.761905       26.1415     9.1  \n",
            "1  10:29         Cash   76.40                 4.761905        3.8200     9.6  \n",
            "2  13:23  Credit card  324.31                 4.761905       16.2155     7.4  \n",
            "3  20:33      Ewallet  465.76                 4.761905       23.2880     8.4  \n",
            "4  10:37      Ewallet  604.17                 4.761905       30.2085     5.3  \n"
          ]
        }
      ]
    },
    {
      "cell_type": "code",
      "source": [
        "# Display the count of missing values in each column\n",
        "print(\"\\nMissing values count for each column:\")\n",
        "missing_values = df.isnull().sum()\n",
        "print(missing_values)"
      ],
      "metadata": {
        "id": "8Hr7unwFN-fv",
        "colab": {
          "base_uri": "https://localhost:8080/"
        },
        "outputId": "19ba0afe-777b-4372-9aaa-53c505d6c215"
      },
      "execution_count": 6,
      "outputs": [
        {
          "output_type": "stream",
          "name": "stdout",
          "text": [
            "\n",
            "Missing values count for each column:\n",
            "Invoice ID                 0\n",
            "Branch                     0\n",
            "City                       0\n",
            "Customer type              0\n",
            "Gender                     0\n",
            "Product line               0\n",
            "Unit price                 0\n",
            "Quantity                   0\n",
            "Tax 5%                     0\n",
            "Total                      0\n",
            "Date                       0\n",
            "Time                       0\n",
            "Payment                    0\n",
            "cogs                       0\n",
            "gross margin percentage    0\n",
            "gross income               0\n",
            "Rating                     0\n",
            "dtype: int64\n"
          ]
        }
      ]
    },
    {
      "cell_type": "code",
      "source": [
        "# Identify columns with the most missing values\n",
        "columns_with_most_missing = missing_values[missing_values > 0]\n",
        "print(\"\\nColumns with most missing values:\")\n",
        "print(columns_with_most_missing)"
      ],
      "metadata": {
        "id": "vua5TNNVN-dM",
        "colab": {
          "base_uri": "https://localhost:8080/"
        },
        "outputId": "0a1bb98d-36a8-44b1-c393-eb37687abd15"
      },
      "execution_count": 7,
      "outputs": [
        {
          "output_type": "stream",
          "name": "stdout",
          "text": [
            "\n",
            "Columns with most missing values:\n",
            "Series([], dtype: int64)\n"
          ]
        }
      ]
    },
    {
      "cell_type": "code",
      "source": [
        "# Replace missing values in numerical columns with the mean or median\n",
        "for col in df.select_dtypes(include=['number']).columns:\n",
        "    if df[col].isnull().sum() > 0:\n",
        "        # Replacing missing values with the median\n",
        "        df[col].fillna(df[col].median(), inplace=True)\n",
        "        # Display the dataset after handling missing values in numerical columns\n",
        "print(\"\\nDataset after handling missing values in numerical columns:\")\n",
        "print(df.head())"
      ],
      "metadata": {
        "id": "_cXtsL-sN-ay",
        "colab": {
          "base_uri": "https://localhost:8080/"
        },
        "outputId": "3c8e409c-de3c-4871-e7bc-16ba0da9316d"
      },
      "execution_count": 8,
      "outputs": [
        {
          "output_type": "stream",
          "name": "stdout",
          "text": [
            "\n",
            "Dataset after handling missing values in numerical columns:\n",
            "    Invoice ID Branch       City Customer type  Gender  \\\n",
            "0  750-67-8428      A     Yangon        Member  Female   \n",
            "1  226-31-3081      C  Naypyitaw        Normal  Female   \n",
            "2  631-41-3108      A     Yangon        Normal    Male   \n",
            "3  123-19-1176      A     Yangon        Member    Male   \n",
            "4  373-73-7910      A     Yangon        Normal    Male   \n",
            "\n",
            "             Product line  Unit price  Quantity   Tax 5%     Total       Date  \\\n",
            "0       Health and beauty       74.69         7  26.1415  548.9715   1/5/2019   \n",
            "1  Electronic accessories       15.28         5   3.8200   80.2200   3/8/2019   \n",
            "2      Home and lifestyle       46.33         7  16.2155  340.5255   3/3/2019   \n",
            "3       Health and beauty       58.22         8  23.2880  489.0480  1/27/2019   \n",
            "4       Sports and travel       86.31         7  30.2085  634.3785   2/8/2019   \n",
            "\n",
            "    Time      Payment    cogs  gross margin percentage  gross income  Rating  \n",
            "0  13:08      Ewallet  522.83                 4.761905       26.1415     9.1  \n",
            "1  10:29         Cash   76.40                 4.761905        3.8200     9.6  \n",
            "2  13:23  Credit card  324.31                 4.761905       16.2155     7.4  \n",
            "3  20:33      Ewallet  465.76                 4.761905       23.2880     8.4  \n",
            "4  10:37      Ewallet  604.17                 4.761905       30.2085     5.3  \n"
          ]
        }
      ]
    },
    {
      "cell_type": "code",
      "source": [
        "# Replace missing values in categorical columns with the mode or apply forward-fill/backward-fill\n",
        "for col in df.select_dtypes(include=['object']).columns:\n",
        "    if df[col].isnull().sum() > 0:\n",
        "        # Replacing missing values with the mode\n",
        "        df[col].fillna(df[col].mode()[0], inplace=True)\n",
        "\n",
        "# Alternatively, apply forward-fill (ffill) or backward-fill (bfill) methods:\n",
        "# df[col].fillna(method='ffill', inplace=True)\n",
        "# df[col].fillna(method='bfill', inplace=True)\n",
        "\n",
        "# Display the dataset after handling missing values in categorical columns\n",
        "print(\"\\nDataset after handling missing values in categorical columns:\")\n",
        "print(df.head())\n"
      ],
      "metadata": {
        "id": "BtAnNgBwN-Ya",
        "colab": {
          "base_uri": "https://localhost:8080/"
        },
        "outputId": "75fa1b13-e125-4c9b-b72e-417cc818a4c8"
      },
      "execution_count": 9,
      "outputs": [
        {
          "output_type": "stream",
          "name": "stdout",
          "text": [
            "\n",
            "Dataset after handling missing values in categorical columns:\n",
            "    Invoice ID Branch       City Customer type  Gender  \\\n",
            "0  750-67-8428      A     Yangon        Member  Female   \n",
            "1  226-31-3081      C  Naypyitaw        Normal  Female   \n",
            "2  631-41-3108      A     Yangon        Normal    Male   \n",
            "3  123-19-1176      A     Yangon        Member    Male   \n",
            "4  373-73-7910      A     Yangon        Normal    Male   \n",
            "\n",
            "             Product line  Unit price  Quantity   Tax 5%     Total       Date  \\\n",
            "0       Health and beauty       74.69         7  26.1415  548.9715   1/5/2019   \n",
            "1  Electronic accessories       15.28         5   3.8200   80.2200   3/8/2019   \n",
            "2      Home and lifestyle       46.33         7  16.2155  340.5255   3/3/2019   \n",
            "3       Health and beauty       58.22         8  23.2880  489.0480  1/27/2019   \n",
            "4       Sports and travel       86.31         7  30.2085  634.3785   2/8/2019   \n",
            "\n",
            "    Time      Payment    cogs  gross margin percentage  gross income  Rating  \n",
            "0  13:08      Ewallet  522.83                 4.761905       26.1415     9.1  \n",
            "1  10:29         Cash   76.40                 4.761905        3.8200     9.6  \n",
            "2  13:23  Credit card  324.31                 4.761905       16.2155     7.4  \n",
            "3  20:33      Ewallet  465.76                 4.761905       23.2880     8.4  \n",
            "4  10:37      Ewallet  604.17                 4.761905       30.2085     5.3  \n"
          ]
        }
      ]
    },
    {
      "cell_type": "code",
      "source": [
        "# Function to detect and handle outliers using IQR\n",
        "def handle_outliers(df):\n",
        "    for col in df.select_dtypes(include=['number']).columns:\n",
        "        if df[col].isnull().sum() == 0:  # Only apply to columns with no missing values\n",
        "            # Calculate Q1 (25th percentile) and Q3 (75th percentile)\n",
        "            Q1 = df[col].quantile(0.25)\n",
        "            Q3 = df[col].quantile(0.75)\n",
        "            IQR = Q3 - Q1\n",
        "\n",
        "            # Calculate lower and upper bounds for outliers\n",
        "            lower_bound = Q1 - 1.5 * IQR\n",
        "            upper_bound = Q3 + 1.5 * IQR\n",
        "\n",
        "            # Remove outliers by capping them\n",
        "            df[col] = df[col].apply(lambda x: upper_bound if x > upper_bound else (lower_bound if x < lower_bound else x))\n",
        "\n",
        "    return df\n",
        "\n",
        "# Apply the function to handle outliers\n",
        "df = handle_outliers(df)\n",
        "\n",
        "# Display the dataset after handling outliers\n",
        "print(\"\\nDataset after handling outliers:\")\n",
        "print(df.head())\n"
      ],
      "metadata": {
        "id": "9NSssSMaN-WJ",
        "colab": {
          "base_uri": "https://localhost:8080/"
        },
        "outputId": "64dee951-432f-42ad-cc64-1d2ea96fff8d"
      },
      "execution_count": 10,
      "outputs": [
        {
          "output_type": "stream",
          "name": "stdout",
          "text": [
            "\n",
            "Dataset after handling outliers:\n",
            "    Invoice ID Branch       City Customer type  Gender  \\\n",
            "0  750-67-8428      A     Yangon        Member  Female   \n",
            "1  226-31-3081      C  Naypyitaw        Normal  Female   \n",
            "2  631-41-3108      A     Yangon        Normal    Male   \n",
            "3  123-19-1176      A     Yangon        Member    Male   \n",
            "4  373-73-7910      A     Yangon        Normal    Male   \n",
            "\n",
            "             Product line  Unit price  Quantity   Tax 5%     Total       Date  \\\n",
            "0       Health and beauty       74.69         7  26.1415  548.9715   1/5/2019   \n",
            "1  Electronic accessories       15.28         5   3.8200   80.2200   3/8/2019   \n",
            "2      Home and lifestyle       46.33         7  16.2155  340.5255   3/3/2019   \n",
            "3       Health and beauty       58.22         8  23.2880  489.0480  1/27/2019   \n",
            "4       Sports and travel       86.31         7  30.2085  634.3785   2/8/2019   \n",
            "\n",
            "    Time      Payment    cogs  gross margin percentage  gross income  Rating  \n",
            "0  13:08      Ewallet  522.83                 4.761905       26.1415     9.1  \n",
            "1  10:29         Cash   76.40                 4.761905        3.8200     9.6  \n",
            "2  13:23  Credit card  324.31                 4.761905       16.2155     7.4  \n",
            "3  20:33      Ewallet  465.76                 4.761905       23.2880     8.4  \n",
            "4  10:37      Ewallet  604.17                 4.761905       30.2085     5.3  \n"
          ]
        }
      ]
    },
    {
      "cell_type": "code",
      "source": [
        "# Display the final cleaned dataset\n",
        "print(\"\\nFinal cleaned dataset:\")\n",
        "print(df.head())\n",
        "\n",
        "# Summarize the preprocessing steps applied\n",
        "print(\"\\nPreprocessing Summary:\")\n",
        "print(\"1. Missing values in numerical columns were replaced with the median.\")\n",
        "print(\"2. Missing values in categorical columns were replaced with the mode.\")\n",
        "print(\"3. Outliers in numerical columns were handled using IQR and capped at the upper and lower bounds.\")\n"
      ],
      "metadata": {
        "id": "ggt-z2ejN-T8",
        "colab": {
          "base_uri": "https://localhost:8080/"
        },
        "outputId": "c061662a-8110-4269-8d20-7c3534c49950"
      },
      "execution_count": 11,
      "outputs": [
        {
          "output_type": "stream",
          "name": "stdout",
          "text": [
            "\n",
            "Final cleaned dataset:\n",
            "    Invoice ID Branch       City Customer type  Gender  \\\n",
            "0  750-67-8428      A     Yangon        Member  Female   \n",
            "1  226-31-3081      C  Naypyitaw        Normal  Female   \n",
            "2  631-41-3108      A     Yangon        Normal    Male   \n",
            "3  123-19-1176      A     Yangon        Member    Male   \n",
            "4  373-73-7910      A     Yangon        Normal    Male   \n",
            "\n",
            "             Product line  Unit price  Quantity   Tax 5%     Total       Date  \\\n",
            "0       Health and beauty       74.69         7  26.1415  548.9715   1/5/2019   \n",
            "1  Electronic accessories       15.28         5   3.8200   80.2200   3/8/2019   \n",
            "2      Home and lifestyle       46.33         7  16.2155  340.5255   3/3/2019   \n",
            "3       Health and beauty       58.22         8  23.2880  489.0480  1/27/2019   \n",
            "4       Sports and travel       86.31         7  30.2085  634.3785   2/8/2019   \n",
            "\n",
            "    Time      Payment    cogs  gross margin percentage  gross income  Rating  \n",
            "0  13:08      Ewallet  522.83                 4.761905       26.1415     9.1  \n",
            "1  10:29         Cash   76.40                 4.761905        3.8200     9.6  \n",
            "2  13:23  Credit card  324.31                 4.761905       16.2155     7.4  \n",
            "3  20:33      Ewallet  465.76                 4.761905       23.2880     8.4  \n",
            "4  10:37      Ewallet  604.17                 4.761905       30.2085     5.3  \n",
            "\n",
            "Preprocessing Summary:\n",
            "1. Missing values in numerical columns were replaced with the median.\n",
            "2. Missing values in categorical columns were replaced with the mode.\n",
            "3. Outliers in numerical columns were handled using IQR and capped at the upper and lower bounds.\n"
          ]
        }
      ]
    }
  ]
}