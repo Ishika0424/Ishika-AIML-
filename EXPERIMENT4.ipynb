{
  "nbformat": 4,
  "nbformat_minor": 0,
  "metadata": {
    "colab": {
      "provenance": []
    },
    "kernelspec": {
      "name": "python3",
      "display_name": "Python 3"
    },
    "language_info": {
      "name": "python"
    }
  },
  "cells": [
    {
      "cell_type": "code",
      "execution_count": 1,
      "metadata": {
        "id": "dGT3fDPfVo11"
      },
      "outputs": [],
      "source": [
        "# Importing the necessary library\n",
        "import pandas as pd\n",
        ""
      ]
    },
    {
      "cell_type": "code",
      "source": [
        "# Uploading the file\n",
        "from google.colab import files\n",
        "uploaded = files.upload()"
      ],
      "metadata": {
        "colab": {
          "base_uri": "https://localhost:8080/",
          "height": 73
        },
        "id": "DteF_NRQaLg_",
        "outputId": "648a587f-e131-4775-ad65-944633258b51"
      },
      "execution_count": 3,
      "outputs": [
        {
          "output_type": "display_data",
          "data": {
            "text/plain": [
              "<IPython.core.display.HTML object>"
            ],
            "text/html": [
              "\n",
              "     <input type=\"file\" id=\"files-f937159a-0d48-4604-8fba-5365fa28d333\" name=\"files[]\" multiple disabled\n",
              "        style=\"border:none\" />\n",
              "     <output id=\"result-f937159a-0d48-4604-8fba-5365fa28d333\">\n",
              "      Upload widget is only available when the cell has been executed in the\n",
              "      current browser session. Please rerun this cell to enable.\n",
              "      </output>\n",
              "      <script>// Copyright 2017 Google LLC\n",
              "//\n",
              "// Licensed under the Apache License, Version 2.0 (the \"License\");\n",
              "// you may not use this file except in compliance with the License.\n",
              "// You may obtain a copy of the License at\n",
              "//\n",
              "//      http://www.apache.org/licenses/LICENSE-2.0\n",
              "//\n",
              "// Unless required by applicable law or agreed to in writing, software\n",
              "// distributed under the License is distributed on an \"AS IS\" BASIS,\n",
              "// WITHOUT WARRANTIES OR CONDITIONS OF ANY KIND, either express or implied.\n",
              "// See the License for the specific language governing permissions and\n",
              "// limitations under the License.\n",
              "\n",
              "/**\n",
              " * @fileoverview Helpers for google.colab Python module.\n",
              " */\n",
              "(function(scope) {\n",
              "function span(text, styleAttributes = {}) {\n",
              "  const element = document.createElement('span');\n",
              "  element.textContent = text;\n",
              "  for (const key of Object.keys(styleAttributes)) {\n",
              "    element.style[key] = styleAttributes[key];\n",
              "  }\n",
              "  return element;\n",
              "}\n",
              "\n",
              "// Max number of bytes which will be uploaded at a time.\n",
              "const MAX_PAYLOAD_SIZE = 100 * 1024;\n",
              "\n",
              "function _uploadFiles(inputId, outputId) {\n",
              "  const steps = uploadFilesStep(inputId, outputId);\n",
              "  const outputElement = document.getElementById(outputId);\n",
              "  // Cache steps on the outputElement to make it available for the next call\n",
              "  // to uploadFilesContinue from Python.\n",
              "  outputElement.steps = steps;\n",
              "\n",
              "  return _uploadFilesContinue(outputId);\n",
              "}\n",
              "\n",
              "// This is roughly an async generator (not supported in the browser yet),\n",
              "// where there are multiple asynchronous steps and the Python side is going\n",
              "// to poll for completion of each step.\n",
              "// This uses a Promise to block the python side on completion of each step,\n",
              "// then passes the result of the previous step as the input to the next step.\n",
              "function _uploadFilesContinue(outputId) {\n",
              "  const outputElement = document.getElementById(outputId);\n",
              "  const steps = outputElement.steps;\n",
              "\n",
              "  const next = steps.next(outputElement.lastPromiseValue);\n",
              "  return Promise.resolve(next.value.promise).then((value) => {\n",
              "    // Cache the last promise value to make it available to the next\n",
              "    // step of the generator.\n",
              "    outputElement.lastPromiseValue = value;\n",
              "    return next.value.response;\n",
              "  });\n",
              "}\n",
              "\n",
              "/**\n",
              " * Generator function which is called between each async step of the upload\n",
              " * process.\n",
              " * @param {string} inputId Element ID of the input file picker element.\n",
              " * @param {string} outputId Element ID of the output display.\n",
              " * @return {!Iterable<!Object>} Iterable of next steps.\n",
              " */\n",
              "function* uploadFilesStep(inputId, outputId) {\n",
              "  const inputElement = document.getElementById(inputId);\n",
              "  inputElement.disabled = false;\n",
              "\n",
              "  const outputElement = document.getElementById(outputId);\n",
              "  outputElement.innerHTML = '';\n",
              "\n",
              "  const pickedPromise = new Promise((resolve) => {\n",
              "    inputElement.addEventListener('change', (e) => {\n",
              "      resolve(e.target.files);\n",
              "    });\n",
              "  });\n",
              "\n",
              "  const cancel = document.createElement('button');\n",
              "  inputElement.parentElement.appendChild(cancel);\n",
              "  cancel.textContent = 'Cancel upload';\n",
              "  const cancelPromise = new Promise((resolve) => {\n",
              "    cancel.onclick = () => {\n",
              "      resolve(null);\n",
              "    };\n",
              "  });\n",
              "\n",
              "  // Wait for the user to pick the files.\n",
              "  const files = yield {\n",
              "    promise: Promise.race([pickedPromise, cancelPromise]),\n",
              "    response: {\n",
              "      action: 'starting',\n",
              "    }\n",
              "  };\n",
              "\n",
              "  cancel.remove();\n",
              "\n",
              "  // Disable the input element since further picks are not allowed.\n",
              "  inputElement.disabled = true;\n",
              "\n",
              "  if (!files) {\n",
              "    return {\n",
              "      response: {\n",
              "        action: 'complete',\n",
              "      }\n",
              "    };\n",
              "  }\n",
              "\n",
              "  for (const file of files) {\n",
              "    const li = document.createElement('li');\n",
              "    li.append(span(file.name, {fontWeight: 'bold'}));\n",
              "    li.append(span(\n",
              "        `(${file.type || 'n/a'}) - ${file.size} bytes, ` +\n",
              "        `last modified: ${\n",
              "            file.lastModifiedDate ? file.lastModifiedDate.toLocaleDateString() :\n",
              "                                    'n/a'} - `));\n",
              "    const percent = span('0% done');\n",
              "    li.appendChild(percent);\n",
              "\n",
              "    outputElement.appendChild(li);\n",
              "\n",
              "    const fileDataPromise = new Promise((resolve) => {\n",
              "      const reader = new FileReader();\n",
              "      reader.onload = (e) => {\n",
              "        resolve(e.target.result);\n",
              "      };\n",
              "      reader.readAsArrayBuffer(file);\n",
              "    });\n",
              "    // Wait for the data to be ready.\n",
              "    let fileData = yield {\n",
              "      promise: fileDataPromise,\n",
              "      response: {\n",
              "        action: 'continue',\n",
              "      }\n",
              "    };\n",
              "\n",
              "    // Use a chunked sending to avoid message size limits. See b/62115660.\n",
              "    let position = 0;\n",
              "    do {\n",
              "      const length = Math.min(fileData.byteLength - position, MAX_PAYLOAD_SIZE);\n",
              "      const chunk = new Uint8Array(fileData, position, length);\n",
              "      position += length;\n",
              "\n",
              "      const base64 = btoa(String.fromCharCode.apply(null, chunk));\n",
              "      yield {\n",
              "        response: {\n",
              "          action: 'append',\n",
              "          file: file.name,\n",
              "          data: base64,\n",
              "        },\n",
              "      };\n",
              "\n",
              "      let percentDone = fileData.byteLength === 0 ?\n",
              "          100 :\n",
              "          Math.round((position / fileData.byteLength) * 100);\n",
              "      percent.textContent = `${percentDone}% done`;\n",
              "\n",
              "    } while (position < fileData.byteLength);\n",
              "  }\n",
              "\n",
              "  // All done.\n",
              "  yield {\n",
              "    response: {\n",
              "      action: 'complete',\n",
              "    }\n",
              "  };\n",
              "}\n",
              "\n",
              "scope.google = scope.google || {};\n",
              "scope.google.colab = scope.google.colab || {};\n",
              "scope.google.colab._files = {\n",
              "  _uploadFiles,\n",
              "  _uploadFilesContinue,\n",
              "};\n",
              "})(self);\n",
              "</script> "
            ]
          },
          "metadata": {}
        },
        {
          "output_type": "stream",
          "name": "stdout",
          "text": [
            "Saving services.csv to services.csv\n"
          ]
        }
      ]
    },
    {
      "cell_type": "code",
      "source": [
        "# The uploaded file's name will be used\n",
        "for filename in uploaded.keys():\n",
        "    data = pd.read_csv(filename)"
      ],
      "metadata": {
        "id": "08lxjalvaLde"
      },
      "execution_count": 4,
      "outputs": []
    },
    {
      "cell_type": "code",
      "source": [
        "# Getting the shape of the dataset (number of rows and columns)\n",
        "rows, cols = data.shape\n",
        "print(f\"Number of Rows: {rows}\")\n",
        "print(f\"Number of Columns: {cols}\")"
      ],
      "metadata": {
        "colab": {
          "base_uri": "https://localhost:8080/"
        },
        "id": "U_zn_PEmaLZu",
        "outputId": "c83de3c4-3173-4af5-9309-2a80bfe63647"
      },
      "execution_count": 5,
      "outputs": [
        {
          "output_type": "stream",
          "name": "stdout",
          "text": [
            "Number of Rows: 1215\n",
            "Number of Columns: 14\n"
          ]
        }
      ]
    },
    {
      "cell_type": "code",
      "source": [
        "# Showing the first five rows\n",
        "print('\\nFirst five rows of the dataset:')\n",
        "print(data.head())"
      ],
      "metadata": {
        "colab": {
          "base_uri": "https://localhost:8080/"
        },
        "id": "EVG3EAzRaLX_",
        "outputId": "a706618a-ba14-4106-b9a8-dbe28e6214fd"
      },
      "execution_count": 6,
      "outputs": [
        {
          "output_type": "stream",
          "name": "stdout",
          "text": [
            "\n",
            "First five rows of the dataset:\n",
            "  Series_reference   Period  Data_value  Suppressed STATUS    UNITS  \\\n",
            "0  SSSQ.SFMN1111CA  2004.06    1248.356         NaN      F  dollars   \n",
            "1  SSSQ.SFMN1111CA  2004.09    1220.571         NaN      F  dollars   \n",
            "2  SSSQ.SFMN1111CA  2004.12    1263.820         NaN      F  dollars   \n",
            "3  SSSQ.SFMN1111CA  2005.03    1146.156         NaN      F  dollars   \n",
            "4  SSSQ.SFMN1111CA  2005.06    1382.692         NaN      F  dollars   \n",
            "\n",
            "   Magnitude                                    Subject  \\\n",
            "0          6  Selected Services Survey (ANZSIC06) - SSS   \n",
            "1          6  Selected Services Survey (ANZSIC06) - SSS   \n",
            "2          6  Selected Services Survey (ANZSIC06) - SSS   \n",
            "3          6  Selected Services Survey (ANZSIC06) - SSS   \n",
            "4          6  Selected Services Survey (ANZSIC06) - SSS   \n",
            "\n",
            "                                             Group  \\\n",
            "0  Industry sales - Subannual Financial Collection   \n",
            "1  Industry sales - Subannual Financial Collection   \n",
            "2  Industry sales - Subannual Financial Collection   \n",
            "3  Industry sales - Subannual Financial Collection   \n",
            "4  Industry sales - Subannual Financial Collection   \n",
            "\n",
            "                                      Series_title_1  \\\n",
            "0  Scientific, Architectural and Engineering Serv...   \n",
            "1  Scientific, Architectural and Engineering Serv...   \n",
            "2  Scientific, Architectural and Engineering Serv...   \n",
            "3  Scientific, Architectural and Engineering Serv...   \n",
            "4  Scientific, Architectural and Engineering Serv...   \n",
            "\n",
            "             Series_title_2  Series_title_3 Series_title_4  Series_title_5  \n",
            "0  Sales (operating income)  Current prices         Actual             NaN  \n",
            "1  Sales (operating income)  Current prices         Actual             NaN  \n",
            "2  Sales (operating income)  Current prices         Actual             NaN  \n",
            "3  Sales (operating income)  Current prices         Actual             NaN  \n",
            "4  Sales (operating income)  Current prices         Actual             NaN  \n"
          ]
        }
      ]
    },
    {
      "cell_type": "code",
      "source": [
        "size = data.size\n",
        "print(f'\\nSize of the dataset: {size}')\n"
      ],
      "metadata": {
        "colab": {
          "base_uri": "https://localhost:8080/"
        },
        "id": "erhDgLs1aLVu",
        "outputId": "258f3483-0aaa-48c5-9249-93a30b0722dc"
      },
      "execution_count": 7,
      "outputs": [
        {
          "output_type": "stream",
          "name": "stdout",
          "text": [
            "\n",
            "Size of the dataset: 17010\n"
          ]
        }
      ]
    },
    {
      "cell_type": "code",
      "source": [
        "# Counting the number of missing values in each column\n",
        "missing_values = data.isnull().sum()\n",
        "print('\\nNumber of missing values in each column:')\n",
        "print(missing_values)"
      ],
      "metadata": {
        "colab": {
          "base_uri": "https://localhost:8080/"
        },
        "id": "LbpbgSDQaLTd",
        "outputId": "11a76e60-dfaa-46e6-d80c-6195bba127b2"
      },
      "execution_count": 8,
      "outputs": [
        {
          "output_type": "stream",
          "name": "stdout",
          "text": [
            "\n",
            "Number of missing values in each column:\n",
            "Series_reference       0\n",
            "Period                 0\n",
            "Data_value            90\n",
            "Suppressed          1215\n",
            "STATUS                 0\n",
            "UNITS                  0\n",
            "Magnitude              0\n",
            "Subject                0\n",
            "Group                  0\n",
            "Series_title_1         0\n",
            "Series_title_2         0\n",
            "Series_title_3         0\n",
            "Series_title_4         0\n",
            "Series_title_5      1215\n",
            "dtype: int64\n"
          ]
        }
      ]
    },
    {
      "cell_type": "code",
      "source": [
        "# Calculating and displaying the summary statistics for numerical columns\n",
        "numerical_summary = data.describe()\n",
        "print('\\nSummary statistics for numerical columns:')\n",
        "print(numerical_summary)"
      ],
      "metadata": {
        "colab": {
          "base_uri": "https://localhost:8080/"
        },
        "id": "9sG72yQRaLRW",
        "outputId": "12308c55-5b82-4c5c-f11d-1cb24fc89c28"
      },
      "execution_count": 9,
      "outputs": [
        {
          "output_type": "stream",
          "name": "stdout",
          "text": [
            "\n",
            "Summary statistics for numerical columns:\n",
            "            Period   Data_value  Suppressed  Magnitude  Series_title_5\n",
            "count  1215.000000  1125.000000         0.0     1215.0             0.0\n",
            "mean   2013.951358  1141.046924         NaN        6.0             NaN\n",
            "std       5.857399   781.849580         NaN        0.0             NaN\n",
            "min    2004.060000   161.412000         NaN        6.0             NaN\n",
            "25%    2009.060000   445.205000         NaN        6.0             NaN\n",
            "50%    2014.060000  1050.326000         NaN        6.0             NaN\n",
            "75%    2019.060000  1564.046000         NaN        6.0             NaN\n",
            "max    2024.060000  4215.970000         NaN        6.0             NaN\n"
          ]
        }
      ]
    },
    {
      "cell_type": "code",
      "source": [
        "# Replace 'modified_dataset.csv' with your desired output filename\n",
        "data.to_csv('modified_dataset.csv', index=False)\n",
        "print('\\nData exported to modified_dataset.csv')"
      ],
      "metadata": {
        "colab": {
          "base_uri": "https://localhost:8080/"
        },
        "id": "sTxrF6gIaLPU",
        "outputId": "5c952ef3-565f-4f7b-a50a-c4f3793adfe0"
      },
      "execution_count": 10,
      "outputs": [
        {
          "output_type": "stream",
          "name": "stdout",
          "text": [
            "\n",
            "Data exported to modified_dataset.csv\n"
          ]
        }
      ]
    }
  ]
}