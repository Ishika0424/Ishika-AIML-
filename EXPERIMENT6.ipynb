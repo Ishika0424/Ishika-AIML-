{
  "nbformat": 4,
  "nbformat_minor": 0,
  "metadata": {
    "colab": {
      "provenance": []
    },
    "kernelspec": {
      "name": "python3",
      "display_name": "Python 3"
    },
    "language_info": {
      "name": "python"
    }
  },
  "cells": [
    {
      "cell_type": "code",
      "source": [
        "import pandas as pd\n",
        "import numpy as np\n",
        "from sklearn.impute import SimpleImputer\n",
        "\n",
        "# Import the dataset\n",
        "data = pd.read_csv('business.csv')\n",
        "\n",
        "# Select only numerical columns for imputation\n",
        "numerical_cols = data.select_dtypes(include='number').columns\n",
        "\n",
        "\n",
        "# Handling missing values using mean imputation for numerical columns\n",
        "imputer = SimpleImputer(strategy='mean')\n",
        "data[numerical_cols] = imputer.fit_transform(data[numerical_cols])\n",
        "\n",
        "# Filling missing values in categorical columns with the mode\n",
        "for column in data.select_dtypes(include='object').columns:\n",
        "    data[column].fillna(data[column].mode()[0], inplace=True)\n",
        "\n",
        "# Checking if there are any missing values left\n",
        "print(\"Missing values after imputation:\")\n",
        "print(data.isnull().sum())\n",
        "\n",
        "# Handling outliers using z-score method\n",
        "from scipy import stats\n",
        "\n",
        "# Calculate z-scores for numerical columns\n",
        "z_scores = np.abs(stats.zscore(data.select_dtypes(include='number')))\n",
        "\n",
        "# Setting a threshold for identifying outliers (z-score > 3)\n",
        "outliers = np.where(z_scores > 3)\n",
        "\n",
        "# Remove the outliers\n",
        "data_no_outliers = data[(z_scores < 3).all(axis=1)]\n",
        "\n",
        "print(f\"Data size after removing outliers: {data_no_outliers.shape}\")\n",
        "\n",
        "# Export the preprocessed dataset\n",
        "data_no_outliers.to_csv('preprocessed_dataset.csv', index=False)\n"
      ],
      "metadata": {
        "id": "LeD69MALRMv7",
        "colab": {
          "base_uri": "https://localhost:8080/"
        },
        "outputId": "149fd499-f0ea-49f4-c270-933606033f7f"
      },
      "execution_count": 8,
      "outputs": [
        {
          "output_type": "stream",
          "name": "stderr",
          "text": [
            "<ipython-input-8-397d54d651ed>:18: FutureWarning: A value is trying to be set on a copy of a DataFrame or Series through chained assignment using an inplace method.\n",
            "The behavior will change in pandas 3.0. This inplace method will never work because the intermediate object on which we are setting values always behaves as a copy.\n",
            "\n",
            "For example, when doing 'df[col].method(value, inplace=True)', try using 'df.method({col: value}, inplace=True)' or df[col] = df[col].method(value) instead, to perform the operation inplace on the original object.\n",
            "\n",
            "\n",
            "  data[column].fillna(data[column].mode()[0], inplace=True)\n"
          ]
        },
        {
          "output_type": "stream",
          "name": "stdout",
          "text": [
            "Missing values after imputation:\n",
            "Year                           0\n",
            "Industry_aggregation_NZSIOC    0\n",
            "Industry_code_NZSIOC           0\n",
            "Industry_name_NZSIOC           0\n",
            "Units                          0\n",
            "Variable_code                  0\n",
            "Variable_name                  0\n",
            "Variable_category              0\n",
            "Value                          0\n",
            "Industry_code_ANZSIC06         0\n",
            "dtype: int64\n",
            "Data size after removing outliers: (50985, 10)\n"
          ]
        }
      ]
    },
    {
      "cell_type": "code",
      "source": [
        "from google.colab import drive\n",
        "drive.mount('/content/drive')"
      ],
      "metadata": {
        "id": "go3wXdV2VOXb"
      },
      "execution_count": null,
      "outputs": []
    }
  ]
}
